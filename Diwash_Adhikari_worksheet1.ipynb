{
  "nbformat": 4,
  "nbformat_minor": 0,
  "metadata": {
    "colab": {
      "provenance": [],
      "authorship_tag": "ABX9TyOklvvOOL0VCO3Q95VxUK4e",
      "include_colab_link": true
    },
    "kernelspec": {
      "name": "python3",
      "display_name": "Python 3"
    },
    "language_info": {
      "name": "python"
    }
  },
  "cells": [
    {
      "cell_type": "markdown",
      "metadata": {
        "id": "view-in-github",
        "colab_type": "text"
      },
      "source": [
        "<a href=\"https://colab.research.google.com/github/Diwash17/5CS037_2407736_2024_Diwash_Adhikari/blob/main/Diwash_Adhikari_worksheet1.ipynb\" target=\"_parent\"><img src=\"https://colab.research.google.com/assets/colab-badge.svg\" alt=\"Open In Colab\"/></a>"
      ]
    },
    {
      "cell_type": "code",
      "execution_count": 57,
      "metadata": {
        "id": "bcE3bGT90zj7"
      },
      "outputs": [],
      "source": [
        "import numpy as np"
      ]
    },
    {
      "cell_type": "code",
      "source": [
        "np.empty((2,2))"
      ],
      "metadata": {
        "colab": {
          "base_uri": "https://localhost:8080/"
        },
        "id": "8VY4A0bz1dwZ",
        "outputId": "5a0d1846-8a67-49c1-d05e-6916c793763a"
      },
      "execution_count": 58,
      "outputs": [
        {
          "output_type": "execute_result",
          "data": {
            "text/plain": [
              "array([[1.14e-322, 6.42e-323],\n",
              "       [2.52e-322, 1.43e-322]])"
            ]
          },
          "metadata": {},
          "execution_count": 58
        }
      ]
    },
    {
      "cell_type": "code",
      "source": [
        "np.ones((4,2))"
      ],
      "metadata": {
        "colab": {
          "base_uri": "https://localhost:8080/"
        },
        "id": "gV-xY2In2cFF",
        "outputId": "91976a94-1323-48da-db7e-860381fb8949"
      },
      "execution_count": 59,
      "outputs": [
        {
          "output_type": "execute_result",
          "data": {
            "text/plain": [
              "array([[1., 1.],\n",
              "       [1., 1.],\n",
              "       [1., 1.],\n",
              "       [1., 1.]])"
            ]
          },
          "metadata": {},
          "execution_count": 59
        }
      ]
    },
    {
      "cell_type": "code",
      "source": [
        "np.full((4,2),4)"
      ],
      "metadata": {
        "colab": {
          "base_uri": "https://localhost:8080/"
        },
        "id": "G893VDBL287P",
        "outputId": "612aad68-7320-4de1-846c-9812179ccbcc"
      },
      "execution_count": 60,
      "outputs": [
        {
          "output_type": "execute_result",
          "data": {
            "text/plain": [
              "array([[4, 4],\n",
              "       [4, 4],\n",
              "       [4, 4],\n",
              "       [4, 4]])"
            ]
          },
          "metadata": {},
          "execution_count": 60
        }
      ]
    },
    {
      "cell_type": "code",
      "source": [
        "np.zeros((4,2))"
      ],
      "metadata": {
        "colab": {
          "base_uri": "https://localhost:8080/"
        },
        "id": "XycNGdZm3lHe",
        "outputId": "f9378281-bfcb-4c75-a911-fba60c0ff4a1"
      },
      "execution_count": 61,
      "outputs": [
        {
          "output_type": "execute_result",
          "data": {
            "text/plain": [
              "array([[0., 0.],\n",
              "       [0., 0.],\n",
              "       [0., 0.],\n",
              "       [0., 0.]])"
            ]
          },
          "metadata": {},
          "execution_count": 61
        }
      ]
    },
    {
      "cell_type": "code",
      "source": [
        "np.ones((4,2))"
      ],
      "metadata": {
        "colab": {
          "base_uri": "https://localhost:8080/"
        },
        "id": "QpasypQG3qTj",
        "outputId": "1132f1a0-0cd2-4db5-c8a6-d3d74b25b848"
      },
      "execution_count": 62,
      "outputs": [
        {
          "output_type": "execute_result",
          "data": {
            "text/plain": [
              "array([[1., 1.],\n",
              "       [1., 1.],\n",
              "       [1., 1.],\n",
              "       [1., 1.]])"
            ]
          },
          "metadata": {},
          "execution_count": 62
        }
      ]
    },
    {
      "cell_type": "code",
      "source": [
        "new_list=[1,2,3,4]\n",
        "num_arrr=np.array(new_list)"
      ],
      "metadata": {
        "id": "5F9y958b3txZ"
      },
      "execution_count": 63,
      "outputs": []
    },
    {
      "cell_type": "code",
      "source": [
        "num_arrr"
      ],
      "metadata": {
        "colab": {
          "base_uri": "https://localhost:8080/"
        },
        "id": "ZVMQ2dEb39ty",
        "outputId": "dbe95427-a6d8-46bb-8e8b-dc2a60bd9897"
      },
      "execution_count": 64,
      "outputs": [
        {
          "output_type": "execute_result",
          "data": {
            "text/plain": [
              "array([1, 2, 3, 4])"
            ]
          },
          "metadata": {},
          "execution_count": 64
        }
      ]
    },
    {
      "cell_type": "code",
      "source": [
        "np.arange(1,50)"
      ],
      "metadata": {
        "colab": {
          "base_uri": "https://localhost:8080/"
        },
        "id": "8YQ-7eAY4aNC",
        "outputId": "82539d84-5b11-4fb4-dcae-5244f9d27c00"
      },
      "execution_count": 65,
      "outputs": [
        {
          "output_type": "execute_result",
          "data": {
            "text/plain": [
              "array([ 1,  2,  3,  4,  5,  6,  7,  8,  9, 10, 11, 12, 13, 14, 15, 16, 17,\n",
              "       18, 19, 20, 21, 22, 23, 24, 25, 26, 27, 28, 29, 30, 31, 32, 33, 34,\n",
              "       35, 36, 37, 38, 39, 40, 41, 42, 43, 44, 45, 46, 47, 48, 49])"
            ]
          },
          "metadata": {},
          "execution_count": 65
        }
      ]
    },
    {
      "cell_type": "code",
      "source": [
        "\n",
        "values = np.arange(9)\n",
        "\n",
        "matrix = values.reshape(3, 3)\n",
        "print(matrix)"
      ],
      "metadata": {
        "colab": {
          "base_uri": "https://localhost:8080/"
        },
        "id": "3hjjsh6a423O",
        "outputId": "69c14583-9448-49c9-de8f-8915baf39330"
      },
      "execution_count": 66,
      "outputs": [
        {
          "output_type": "stream",
          "name": "stdout",
          "text": [
            "[[0 1 2]\n",
            " [3 4 5]\n",
            " [6 7 8]]\n"
          ]
        }
      ]
    },
    {
      "cell_type": "code",
      "source": [
        "np.eye(3)"
      ],
      "metadata": {
        "colab": {
          "base_uri": "https://localhost:8080/"
        },
        "id": "f08VgFto4_dB",
        "outputId": "bea3d11c-61ad-4d85-e958-8bd2e3887996"
      },
      "execution_count": 67,
      "outputs": [
        {
          "output_type": "execute_result",
          "data": {
            "text/plain": [
              "array([[1., 0., 0.],\n",
              "       [0., 1., 0.],\n",
              "       [0., 0., 1.]])"
            ]
          },
          "metadata": {},
          "execution_count": 67
        }
      ]
    },
    {
      "cell_type": "code",
      "source": [
        "random_number=np.random.random(30)"
      ],
      "metadata": {
        "id": "gFdpNJwU5GXf"
      },
      "execution_count": 68,
      "outputs": []
    },
    {
      "cell_type": "code",
      "source": [
        "random_number"
      ],
      "metadata": {
        "colab": {
          "base_uri": "https://localhost:8080/"
        },
        "id": "sKVeLl6x6OeT",
        "outputId": "92e8023f-34f8-4fd7-a2fa-ca8c684788d8"
      },
      "execution_count": 69,
      "outputs": [
        {
          "output_type": "execute_result",
          "data": {
            "text/plain": [
              "array([3.30122740e-01, 3.73712081e-01, 6.01392644e-01, 2.52683309e-02,\n",
              "       7.66079762e-01, 7.36109687e-01, 7.05294438e-01, 7.84368243e-02,\n",
              "       9.23477431e-01, 9.75973450e-01, 7.89228565e-01, 5.91662267e-01,\n",
              "       4.09531317e-01, 8.38663086e-01, 1.39085590e-01, 9.41322633e-01,\n",
              "       1.10558651e-02, 2.61812637e-01, 3.90864631e-05, 3.88950849e-01,\n",
              "       8.17618900e-01, 9.49034639e-01, 4.60146004e-02, 5.45399860e-03,\n",
              "       1.42869468e-03, 1.57900728e-01, 9.39361590e-01, 5.12922904e-01,\n",
              "       3.84248439e-01, 5.75243471e-01])"
            ]
          },
          "metadata": {},
          "execution_count": 69
        }
      ]
    },
    {
      "cell_type": "code",
      "source": [
        "random_number.mean()"
      ],
      "metadata": {
        "colab": {
          "base_uri": "https://localhost:8080/"
        },
        "id": "MbrX9GRQ6RwK",
        "outputId": "fed61cf1-cc41-4d30-fcbb-2fedc6435a68"
      },
      "execution_count": 70,
      "outputs": [
        {
          "output_type": "execute_result",
          "data": {
            "text/plain": [
              "0.47588157495329586"
            ]
          },
          "metadata": {},
          "execution_count": 70
        }
      ]
    },
    {
      "cell_type": "code",
      "source": [
        "rand_num=np.random.random((10,10))"
      ],
      "metadata": {
        "id": "84LtkXkb6iju"
      },
      "execution_count": 71,
      "outputs": []
    },
    {
      "cell_type": "code",
      "source": [
        "rand_num"
      ],
      "metadata": {
        "colab": {
          "base_uri": "https://localhost:8080/"
        },
        "id": "7eQLb1__7GQt",
        "outputId": "d709dfb6-b98e-44e5-fa2a-b6cbf9c63472"
      },
      "execution_count": 72,
      "outputs": [
        {
          "output_type": "execute_result",
          "data": {
            "text/plain": [
              "array([[0.40142179, 0.84523335, 0.29046245, 0.1817308 , 0.49888287,\n",
              "        0.67614903, 0.36126386, 0.24733124, 0.46274869, 0.5762126 ],\n",
              "       [0.66472675, 0.20584434, 0.70080239, 0.74252296, 0.37400703,\n",
              "        0.26834073, 0.55053143, 0.44644977, 0.28296178, 0.60455011],\n",
              "       [0.6881182 , 0.15174662, 0.66824754, 0.78851833, 0.85663813,\n",
              "        0.92669264, 0.37144136, 0.73621611, 0.96537362, 0.26655717],\n",
              "       [0.91284611, 0.10226806, 0.92801275, 0.46665787, 0.09662472,\n",
              "        0.84512471, 0.39807169, 0.19620662, 0.8352492 , 0.36965002],\n",
              "       [0.9396845 , 0.81514371, 0.9576055 , 0.86884426, 0.20296261,\n",
              "        0.8238652 , 0.01844398, 0.07696371, 0.42813736, 0.20789617],\n",
              "       [0.06363567, 0.24831103, 0.99914453, 0.74441063, 0.55107367,\n",
              "        0.85724373, 0.95565892, 0.74334548, 0.81254727, 0.84479625],\n",
              "       [0.28656895, 0.663326  , 0.16619993, 0.01076336, 0.53484593,\n",
              "        0.36773865, 0.61656801, 0.63909788, 0.43412915, 0.3776456 ],\n",
              "       [0.36824418, 0.1669533 , 0.81736873, 0.4011899 , 0.29419716,\n",
              "        0.87802223, 0.77681647, 0.38517939, 0.07742922, 0.54657307],\n",
              "       [0.04028071, 0.04030461, 0.10301725, 0.45515457, 0.1231959 ,\n",
              "        0.33592183, 0.96499596, 0.29518698, 0.85350211, 0.40643603],\n",
              "       [0.00925215, 0.53586867, 0.08534318, 0.50637842, 0.26861653,\n",
              "        0.40078328, 0.86285031, 0.24725332, 0.98042572, 0.7130856 ]])"
            ]
          },
          "metadata": {},
          "execution_count": 72
        }
      ]
    },
    {
      "cell_type": "code",
      "source": [
        "rand_num.max()"
      ],
      "metadata": {
        "colab": {
          "base_uri": "https://localhost:8080/"
        },
        "id": "XCBQhmXO7JCV",
        "outputId": "92e3d1dc-a579-4b00-f042-e6a200c335d3"
      },
      "execution_count": 73,
      "outputs": [
        {
          "output_type": "execute_result",
          "data": {
            "text/plain": [
              "0.9991445340348779"
            ]
          },
          "metadata": {},
          "execution_count": 73
        }
      ]
    },
    {
      "cell_type": "code",
      "source": [
        "rand_num.min()"
      ],
      "metadata": {
        "colab": {
          "base_uri": "https://localhost:8080/"
        },
        "id": "FQ0sLuqp7N8I",
        "outputId": "935df64d-267e-4cab-ef86-0218afe3f1ef"
      },
      "execution_count": 74,
      "outputs": [
        {
          "output_type": "execute_result",
          "data": {
            "text/plain": [
              "0.009252150713740193"
            ]
          },
          "metadata": {},
          "execution_count": 74
        }
      ]
    },
    {
      "cell_type": "code",
      "source": [
        "new_arr=np.zeros(10)"
      ],
      "metadata": {
        "id": "l_NHpEyc7YD0"
      },
      "execution_count": 75,
      "outputs": []
    },
    {
      "cell_type": "code",
      "source": [
        "new_arr"
      ],
      "metadata": {
        "colab": {
          "base_uri": "https://localhost:8080/"
        },
        "id": "rXmn7gCI7cnw",
        "outputId": "bf610c35-e43d-4e0d-b2ee-00c17f35447c"
      },
      "execution_count": 76,
      "outputs": [
        {
          "output_type": "execute_result",
          "data": {
            "text/plain": [
              "array([0., 0., 0., 0., 0., 0., 0., 0., 0., 0.])"
            ]
          },
          "metadata": {},
          "execution_count": 76
        }
      ]
    },
    {
      "cell_type": "code",
      "source": [
        "new_arr[4]=1"
      ],
      "metadata": {
        "id": "m-W2sg1R7kS_"
      },
      "execution_count": 77,
      "outputs": []
    },
    {
      "cell_type": "code",
      "source": [
        "new_arr"
      ],
      "metadata": {
        "colab": {
          "base_uri": "https://localhost:8080/"
        },
        "id": "lQg0bPM57rBu",
        "outputId": "5e8aa9d8-180f-4956-ae3d-5f8b13f4b911"
      },
      "execution_count": 78,
      "outputs": [
        {
          "output_type": "execute_result",
          "data": {
            "text/plain": [
              "array([0., 0., 0., 0., 1., 0., 0., 0., 0., 0.])"
            ]
          },
          "metadata": {},
          "execution_count": 78
        }
      ]
    },
    {
      "cell_type": "code",
      "source": [
        "arr = [1,2,0,0,4,0]"
      ],
      "metadata": {
        "id": "7qlnpcV67wyc"
      },
      "execution_count": 79,
      "outputs": []
    },
    {
      "cell_type": "code",
      "source": [
        "arr.reverse()"
      ],
      "metadata": {
        "id": "Ei2MHqkn72-U"
      },
      "execution_count": 80,
      "outputs": []
    },
    {
      "cell_type": "code",
      "source": [
        "arr"
      ],
      "metadata": {
        "colab": {
          "base_uri": "https://localhost:8080/"
        },
        "id": "fmx9KkxM8PTs",
        "outputId": "7f9b3b1d-a087-485b-ba03-7daa18758383"
      },
      "execution_count": 81,
      "outputs": [
        {
          "output_type": "execute_result",
          "data": {
            "text/plain": [
              "[0, 4, 0, 0, 2, 1]"
            ]
          },
          "metadata": {},
          "execution_count": 81
        }
      ]
    },
    {
      "cell_type": "code",
      "source": [
        "n = 8\n",
        "array = np.ones((n, n), dtype=int)\n",
        "array[1:-1, 1:-1] = 0"
      ],
      "metadata": {
        "id": "P7TBQ5MqBGP4"
      },
      "execution_count": 82,
      "outputs": []
    },
    {
      "cell_type": "code",
      "source": [
        "array"
      ],
      "metadata": {
        "colab": {
          "base_uri": "https://localhost:8080/"
        },
        "id": "j_S9p6uzBLLO",
        "outputId": "4a94af98-1b4e-47db-a34d-20fe58d23262"
      },
      "execution_count": 83,
      "outputs": [
        {
          "output_type": "execute_result",
          "data": {
            "text/plain": [
              "array([[1, 1, 1, 1, 1, 1, 1, 1],\n",
              "       [1, 0, 0, 0, 0, 0, 0, 1],\n",
              "       [1, 0, 0, 0, 0, 0, 0, 1],\n",
              "       [1, 0, 0, 0, 0, 0, 0, 1],\n",
              "       [1, 0, 0, 0, 0, 0, 0, 1],\n",
              "       [1, 0, 0, 0, 0, 0, 0, 1],\n",
              "       [1, 0, 0, 0, 0, 0, 0, 1],\n",
              "       [1, 1, 1, 1, 1, 1, 1, 1]])"
            ]
          },
          "metadata": {},
          "execution_count": 83
        }
      ]
    },
    {
      "cell_type": "code",
      "source": [
        "checkerboard = np.zeros((8, 8), dtype=int)\n",
        "checkerboard[1::2, ::2] = 1\n",
        "checkerboard[::2, 1::2] = 1"
      ],
      "metadata": {
        "id": "-K4yUPx2BNGq"
      },
      "execution_count": 84,
      "outputs": []
    },
    {
      "cell_type": "code",
      "source": [
        "checkerboard"
      ],
      "metadata": {
        "colab": {
          "base_uri": "https://localhost:8080/"
        },
        "id": "70nT4UXlBTP7",
        "outputId": "bd379fa9-d9b6-4978-84e5-67b459f7cff1"
      },
      "execution_count": 85,
      "outputs": [
        {
          "output_type": "execute_result",
          "data": {
            "text/plain": [
              "array([[0, 1, 0, 1, 0, 1, 0, 1],\n",
              "       [1, 0, 1, 0, 1, 0, 1, 0],\n",
              "       [0, 1, 0, 1, 0, 1, 0, 1],\n",
              "       [1, 0, 1, 0, 1, 0, 1, 0],\n",
              "       [0, 1, 0, 1, 0, 1, 0, 1],\n",
              "       [1, 0, 1, 0, 1, 0, 1, 0],\n",
              "       [0, 1, 0, 1, 0, 1, 0, 1],\n",
              "       [1, 0, 1, 0, 1, 0, 1, 0]])"
            ]
          },
          "metadata": {},
          "execution_count": 85
        }
      ]
    },
    {
      "cell_type": "code",
      "source": [
        "x = np.array([[1,2],[3,5]])\n",
        "y=np.array([[5,6],[7,8]])\n",
        "v = np.array([9,10])\n",
        "w = np.array([11,12])\n"
      ],
      "metadata": {
        "id": "IgDLcGdK8rgs"
      },
      "execution_count": 86,
      "outputs": []
    },
    {
      "cell_type": "code",
      "source": [
        "x+y"
      ],
      "metadata": {
        "colab": {
          "base_uri": "https://localhost:8080/"
        },
        "id": "3qhc_nR89Ooe",
        "outputId": "02ad1d38-fbc3-42a8-9879-f5c82f8ee8fe"
      },
      "execution_count": 87,
      "outputs": [
        {
          "output_type": "execute_result",
          "data": {
            "text/plain": [
              "array([[ 6,  8],\n",
              "       [10, 13]])"
            ]
          },
          "metadata": {},
          "execution_count": 87
        }
      ]
    },
    {
      "cell_type": "code",
      "source": [
        "x-y"
      ],
      "metadata": {
        "colab": {
          "base_uri": "https://localhost:8080/"
        },
        "id": "83tHPWf69RBz",
        "outputId": "9f2b01f1-8b36-40f4-c7c6-a66a2fe338c8"
      },
      "execution_count": 88,
      "outputs": [
        {
          "output_type": "execute_result",
          "data": {
            "text/plain": [
              "array([[-4, -4],\n",
              "       [-4, -3]])"
            ]
          },
          "metadata": {},
          "execution_count": 88
        }
      ]
    },
    {
      "cell_type": "code",
      "source": [
        "x*5"
      ],
      "metadata": {
        "colab": {
          "base_uri": "https://localhost:8080/"
        },
        "id": "HsjJzD_-9YFZ",
        "outputId": "5a6117d1-b8d0-4658-b850-2cddf835a88a"
      },
      "execution_count": 89,
      "outputs": [
        {
          "output_type": "execute_result",
          "data": {
            "text/plain": [
              "array([[ 5, 10],\n",
              "       [15, 25]])"
            ]
          },
          "metadata": {},
          "execution_count": 89
        }
      ]
    },
    {
      "cell_type": "code",
      "source": [
        "x**2"
      ],
      "metadata": {
        "colab": {
          "base_uri": "https://localhost:8080/"
        },
        "id": "ATS3Ngja9wGg",
        "outputId": "a2490852-228a-4910-a302-90736a41a46c"
      },
      "execution_count": 90,
      "outputs": [
        {
          "output_type": "execute_result",
          "data": {
            "text/plain": [
              "array([[ 1,  4],\n",
              "       [ 9, 25]])"
            ]
          },
          "metadata": {},
          "execution_count": 90
        }
      ]
    },
    {
      "cell_type": "code",
      "source": [
        "print(np.dot(v, w))\n",
        "print(np.dot(x, v))\n",
        "print(np.dot(x, y))"
      ],
      "metadata": {
        "colab": {
          "base_uri": "https://localhost:8080/"
        },
        "id": "zF1f17Jj-Gl0",
        "outputId": "9ed6c0b7-6b0b-45bc-90c7-dd3ceec79ede"
      },
      "execution_count": 91,
      "outputs": [
        {
          "output_type": "stream",
          "name": "stdout",
          "text": [
            "219\n",
            "[29 77]\n",
            "[[19 22]\n",
            " [50 58]]\n"
          ]
        }
      ]
    },
    {
      "cell_type": "code",
      "source": [
        "np.concatenate((x,y))"
      ],
      "metadata": {
        "colab": {
          "base_uri": "https://localhost:8080/"
        },
        "id": "Ml89lDyc-7el",
        "outputId": "91f4289c-eaa2-42bd-d448-3f5ffd77c083"
      },
      "execution_count": 92,
      "outputs": [
        {
          "output_type": "execute_result",
          "data": {
            "text/plain": [
              "array([[1, 2],\n",
              "       [3, 5],\n",
              "       [5, 6],\n",
              "       [7, 8]])"
            ]
          },
          "metadata": {},
          "execution_count": 92
        }
      ]
    },
    {
      "cell_type": "code",
      "source": [
        "np.hstack((x,y))"
      ],
      "metadata": {
        "colab": {
          "base_uri": "https://localhost:8080/"
        },
        "id": "2NZzEBLL_h4V",
        "outputId": "0d942271-d7cc-4451-dd00-b2ab0234a2c2"
      },
      "execution_count": 93,
      "outputs": [
        {
          "output_type": "execute_result",
          "data": {
            "text/plain": [
              "array([[1, 2, 5, 6],\n",
              "       [3, 5, 7, 8]])"
            ]
          },
          "metadata": {},
          "execution_count": 93
        }
      ]
    },
    {
      "cell_type": "code",
      "source": [
        "np.vstack((v,w))"
      ],
      "metadata": {
        "colab": {
          "base_uri": "https://localhost:8080/"
        },
        "id": "Zb5-Uo5A_n7A",
        "outputId": "9613d8da-532c-4fa1-92a7-b6dd8135ccea"
      },
      "execution_count": 94,
      "outputs": [
        {
          "output_type": "execute_result",
          "data": {
            "text/plain": [
              "array([[ 9, 10],\n",
              "       [11, 12]])"
            ]
          },
          "metadata": {},
          "execution_count": 94
        }
      ]
    },
    {
      "cell_type": "code",
      "source": [
        "np.concatenate((x,v))"
      ],
      "metadata": {
        "colab": {
          "base_uri": "https://localhost:8080/",
          "height": 162
        },
        "id": "4tIIrWho_w_y",
        "outputId": "0f58331d-d25e-4910-b14e-385bcba47e4a"
      },
      "execution_count": 95,
      "outputs": [
        {
          "output_type": "error",
          "ename": "ValueError",
          "evalue": "all the input arrays must have same number of dimensions, but the array at index 0 has 2 dimension(s) and the array at index 1 has 1 dimension(s)",
          "traceback": [
            "\u001b[0;31m---------------------------------------------------------------------------\u001b[0m",
            "\u001b[0;31mValueError\u001b[0m                                Traceback (most recent call last)",
            "\u001b[0;32m<ipython-input-95-780e7105da8c>\u001b[0m in \u001b[0;36m<cell line: 1>\u001b[0;34m()\u001b[0m\n\u001b[0;32m----> 1\u001b[0;31m \u001b[0mnp\u001b[0m\u001b[0;34m.\u001b[0m\u001b[0mconcatenate\u001b[0m\u001b[0;34m(\u001b[0m\u001b[0;34m(\u001b[0m\u001b[0mx\u001b[0m\u001b[0;34m,\u001b[0m\u001b[0mv\u001b[0m\u001b[0;34m)\u001b[0m\u001b[0;34m)\u001b[0m\u001b[0;34m\u001b[0m\u001b[0;34m\u001b[0m\u001b[0m\n\u001b[0m",
            "\u001b[0;31mValueError\u001b[0m: all the input arrays must have same number of dimensions, but the array at index 0 has 2 dimension(s) and the array at index 1 has 1 dimension(s)"
          ]
        }
      ]
    },
    {
      "cell_type": "code",
      "source": [
        "A = np.array([[3,4],[7,8]])\n",
        "B = np.array([[5,3],[2,1]])"
      ],
      "metadata": {
        "id": "6O7zX74RAGcQ"
      },
      "execution_count": 96,
      "outputs": []
    },
    {
      "cell_type": "code",
      "source": [
        "A_inverse=np.linalg.inv(A)"
      ],
      "metadata": {
        "id": "OXw-_DuP1yGw"
      },
      "execution_count": 97,
      "outputs": []
    },
    {
      "cell_type": "code",
      "source": [
        "B_inverse=np.linalg.inv(B)"
      ],
      "metadata": {
        "id": "BIXXyo6s1_Jr"
      },
      "execution_count": 98,
      "outputs": []
    },
    {
      "cell_type": "code",
      "source": [
        "result=np.dot(A,A_inverse)\n",
        "I = np.eye(A.shape[0])\n",
        "is_identity = np.allclose(result, I)"
      ],
      "metadata": {
        "id": "WSKqN9d82KY-"
      },
      "execution_count": 99,
      "outputs": []
    },
    {
      "cell_type": "code",
      "source": [
        "result"
      ],
      "metadata": {
        "colab": {
          "base_uri": "https://localhost:8080/"
        },
        "id": "1cl7Gqoa2gOZ",
        "outputId": "d4cd7115-809d-4aa4-ab98-013075a9b0de"
      },
      "execution_count": 100,
      "outputs": [
        {
          "output_type": "execute_result",
          "data": {
            "text/plain": [
              "array([[1.00000000e+00, 0.00000000e+00],\n",
              "       [1.77635684e-15, 1.00000000e+00]])"
            ]
          },
          "metadata": {},
          "execution_count": 100
        }
      ]
    },
    {
      "cell_type": "code",
      "source": [
        "is_identity"
      ],
      "metadata": {
        "colab": {
          "base_uri": "https://localhost:8080/"
        },
        "id": "ly4wbbGp2jvd",
        "outputId": "7f3d3ec8-c397-4c96-cbc3-90780dd47c64"
      },
      "execution_count": 101,
      "outputs": [
        {
          "output_type": "execute_result",
          "data": {
            "text/plain": [
              "True"
            ]
          },
          "metadata": {},
          "execution_count": 101
        }
      ]
    },
    {
      "cell_type": "code",
      "source": [
        "\n",
        "AB = np.dot(A, B)  # or A @ B\n",
        "BA = np.dot(B, A)  # or B @ A\n",
        "\n",
        "\n",
        "print(\"AB:\", AB)\n",
        "print(\"BA:\", BA)\n",
        "\n",
        "\n",
        "are_equal = np.array_equal(AB, BA)\n",
        "print(\"Is AB equal to BA? \", are_equal)"
      ],
      "metadata": {
        "colab": {
          "base_uri": "https://localhost:8080/"
        },
        "id": "T-KQzruX3Plo",
        "outputId": "14a0a530-277e-45a4-ee60-e2592c3fe88e"
      },
      "execution_count": 102,
      "outputs": [
        {
          "output_type": "stream",
          "name": "stdout",
          "text": [
            "AB: [[23 13]\n",
            " [51 29]]\n",
            "BA: [[36 44]\n",
            " [13 16]]\n",
            "Is AB equal to BA?  False\n"
          ]
        }
      ]
    },
    {
      "cell_type": "code",
      "source": [
        "AB = np.dot(A, B)\n",
        "AB_T = AB.T\n",
        "\n",
        "B_T = B.T\n",
        "A_T = A.T\n",
        "B_T_A_T = np.dot(B_T, A_T)\n",
        "\n",
        "are_equal = np.array_equal(AB_T, B_T_A_T)\n",
        "\n",
        "print(\"(AB)^T:\", AB_T)\n",
        "print(\"B^T A^T:\", B_T_A_T)\n",
        "print(\"Is (AB)^T equal to B^T A^T? \", are_equal)"
      ],
      "metadata": {
        "colab": {
          "base_uri": "https://localhost:8080/"
        },
        "id": "RIG4AUXi3PZ1",
        "outputId": "28e14053-bfd0-4649-e403-688bb4a1651c"
      },
      "execution_count": 103,
      "outputs": [
        {
          "output_type": "stream",
          "name": "stdout",
          "text": [
            "(AB)^T: [[23 51]\n",
            " [13 29]]\n",
            "B^T A^T: [[23 51]\n",
            " [13 29]]\n",
            "Is (AB)^T equal to B^T A^T?  True\n"
          ]
        }
      ]
    },
    {
      "cell_type": "code",
      "source": [
        "import time\n",
        "\n",
        "list1, list2 = range(1_000_000), range(1_000_000)\n",
        "start = time.time()\n",
        "list_sum = [x + y for x, y in zip(list1, list2)]\n",
        "time_list = time.time() - start\n",
        "\n",
        "array1, array2 = np.arange(1_000_000), np.arange(1_000_000)\n",
        "start = time.time()\n",
        "array_sum = array1 + array2\n",
        "time_numpy = time.time() - start\n",
        "\n",
        "print(f\"Python lists: {time_list:.3f}s, NumPy arrays: {time_numpy:.3f}s\")"
      ],
      "metadata": {
        "colab": {
          "base_uri": "https://localhost:8080/"
        },
        "id": "72r2QyO-7aMl",
        "outputId": "cc21dd23-71b6-409e-da88-b048bbdc4444"
      },
      "execution_count": 104,
      "outputs": [
        {
          "output_type": "stream",
          "name": "stdout",
          "text": [
            "Python lists: 0.114s, NumPy arrays: 0.004s\n"
          ]
        }
      ]
    },
    {
      "cell_type": "code",
      "source": [
        "list1, list2 = range(1_000_000), range(1_000_000)\n",
        "\n",
        "start = time.time()\n",
        "list_product = [x * y for x, y in zip(list1, list2)]\n",
        "time_list = time.time() - start\n",
        "\n",
        "array1, array2 = np.arange(1_000_000), np.arange(1_000_000)\n",
        "\n",
        "start = time.time()\n",
        "array_product = array1 * array2\n",
        "time_numpy = time.time() - start\n",
        "\n",
        "print(f\"Python lists: {time_list:.3f}s, NumPy arrays: {time_numpy:.3f}s\")"
      ],
      "metadata": {
        "colab": {
          "base_uri": "https://localhost:8080/"
        },
        "id": "ow7TXQnh8sAw",
        "outputId": "7d8b31be-8174-4539-ca55-6f213bdc8a98"
      },
      "execution_count": 105,
      "outputs": [
        {
          "output_type": "stream",
          "name": "stdout",
          "text": [
            "Python lists: 0.122s, NumPy arrays: 0.003s\n"
          ]
        }
      ]
    },
    {
      "cell_type": "code",
      "source": [
        "import random\n",
        "size = 1000000\n",
        "\n",
        "list1 = [random.random() for _ in range(size)]\n",
        "list2 = [random.random() for _ in range(size)]\n",
        "\n",
        "start_time = time.time()\n",
        "dot_product = sum(a * b for a, b in zip(list1, list2))\n",
        "end_time = time.time()\n",
        "list_time = end_time - start_time\n",
        "print(f\"Time taken with Python lists: {list_time:.4f} seconds\")\n",
        "print(f\"Dot product with lists: {dot_product}\")\n",
        "\n",
        "array1 = np.array(list1)\n",
        "array2 = np.array(list2)\n",
        "\n",
        "start_time = time.time()\n",
        "dot_product_np = np.dot(array1, array2)\n",
        "end_time = time.time()\n",
        "numpy_time = end_time - start_time\n",
        "print(f\"\\nTime taken with NumPy: {numpy_time:.4f} seconds\")\n",
        "print(f\"Dot product with NumPy: {dot_product_np}\")\n",
        "\n",
        "print(f\"\\nNumPy is {list_time/numpy_time:.1f}x faster than Python lists\")"
      ],
      "metadata": {
        "colab": {
          "base_uri": "https://localhost:8080/"
        },
        "id": "1yqx95G5DzeO",
        "outputId": "bad1943c-3816-4861-f2b6-266473a138db"
      },
      "execution_count": 109,
      "outputs": [
        {
          "output_type": "stream",
          "name": "stdout",
          "text": [
            "Time taken with Python lists: 0.0830 seconds\n",
            "Dot product with lists: 249802.80049820544\n",
            "\n",
            "Time taken with NumPy: 0.0014 seconds\n",
            "Dot product with NumPy: 249802.80049820154\n",
            "\n",
            "NumPy is 58.3x faster than Python lists\n"
          ]
        }
      ]
    },
    {
      "cell_type": "code",
      "source": [
        "size = 1000\n",
        "\n",
        "matrix1 = [[1] * size for _ in range(size)]\n",
        "matrix2 = [[1] * size for _ in range(size)]\n",
        "result = [[0] * size for _ in range(size)]\n",
        "\n",
        "start_time = time.time()\n",
        "for i in range(size):\n",
        "    for j in range(size):\n",
        "        result[i][j] = sum(matrix1[i][k] * matrix2[k][j] for k in range(size))\n",
        "end_time = time.time()\n",
        "print(f\"Time taken using Python lists: {end_time - start_time:.2f} seconds\")\n",
        "\n",
        "matrix1_np = np.ones((size, size))\n",
        "matrix2_np = np.ones((size, size))\n",
        "\n",
        "start_time = time.time()\n",
        "result_np = np.dot(matrix1_np, matrix2_np)\n",
        "end_time = time.time()\n",
        "print(f\"Time taken using NumPy: {end_time - start_time:.2f} seconds\")"
      ],
      "metadata": {
        "colab": {
          "base_uri": "https://localhost:8080/"
        },
        "id": "1dRfRaupCjGR",
        "outputId": "1f1a1c4c-1318-4ccb-af39-e85ebd37497a"
      },
      "execution_count": 107,
      "outputs": [
        {
          "output_type": "stream",
          "name": "stdout",
          "text": [
            "Time taken using Python lists: 181.05 seconds\n",
            "Time taken using NumPy: 0.06 seconds\n"
          ]
        }
      ]
    }
  ]
}