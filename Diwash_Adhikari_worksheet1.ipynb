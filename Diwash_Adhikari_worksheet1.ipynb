{
  "nbformat": 4,
  "nbformat_minor": 0,
  "metadata": {
    "colab": {
      "provenance": [],
      "authorship_tag": "ABX9TyPaGF3oersi5JJQu1Xqpik9",
      "include_colab_link": true
    },
    "kernelspec": {
      "name": "python3",
      "display_name": "Python 3"
    },
    "language_info": {
      "name": "python"
    }
  },
  "cells": [
    {
      "cell_type": "markdown",
      "metadata": {
        "id": "view-in-github",
        "colab_type": "text"
      },
      "source": [
        "<a href=\"https://colab.research.google.com/github/Diwash17/5CS037_2407736_2024_Diwash_Adhikari/blob/main/Diwash_Adhikari_worksheet1.ipynb\" target=\"_parent\"><img src=\"https://colab.research.google.com/assets/colab-badge.svg\" alt=\"Open In Colab\"/></a>"
      ]
    },
    {
      "cell_type": "code",
      "execution_count": 2,
      "metadata": {
        "id": "bcE3bGT90zj7"
      },
      "outputs": [],
      "source": [
        "import numpy as np"
      ]
    },
    {
      "cell_type": "code",
      "source": [
        "np.empty((2,2))"
      ],
      "metadata": {
        "colab": {
          "base_uri": "https://localhost:8080/"
        },
        "id": "8VY4A0bz1dwZ",
        "outputId": "4ece308d-e35a-4dab-e4df-e36a7db036cf"
      },
      "execution_count": 3,
      "outputs": [
        {
          "output_type": "execute_result",
          "data": {
            "text/plain": [
              "array([[ 4.87723657e-310,  0.00000000e+000],\n",
              "       [-9.31715264e+095,  6.88438222e-310]])"
            ]
          },
          "metadata": {},
          "execution_count": 3
        }
      ]
    },
    {
      "cell_type": "code",
      "source": [
        "np.ones((4,2))"
      ],
      "metadata": {
        "colab": {
          "base_uri": "https://localhost:8080/"
        },
        "id": "gV-xY2In2cFF",
        "outputId": "eab34853-36b5-4321-ea3a-a81781f47c01"
      },
      "execution_count": 4,
      "outputs": [
        {
          "output_type": "execute_result",
          "data": {
            "text/plain": [
              "array([[1., 1.],\n",
              "       [1., 1.],\n",
              "       [1., 1.],\n",
              "       [1., 1.]])"
            ]
          },
          "metadata": {},
          "execution_count": 4
        }
      ]
    },
    {
      "cell_type": "code",
      "source": [
        "np.full((4,2),4)"
      ],
      "metadata": {
        "colab": {
          "base_uri": "https://localhost:8080/"
        },
        "id": "G893VDBL287P",
        "outputId": "1adb0481-4668-4da1-fc56-59e8019a84f1"
      },
      "execution_count": 5,
      "outputs": [
        {
          "output_type": "execute_result",
          "data": {
            "text/plain": [
              "array([[4, 4],\n",
              "       [4, 4],\n",
              "       [4, 4],\n",
              "       [4, 4]])"
            ]
          },
          "metadata": {},
          "execution_count": 5
        }
      ]
    },
    {
      "cell_type": "code",
      "source": [
        "np.zeros((4,2))"
      ],
      "metadata": {
        "colab": {
          "base_uri": "https://localhost:8080/"
        },
        "id": "XycNGdZm3lHe",
        "outputId": "030e9983-0195-4373-a1d6-c0a11a926fbd"
      },
      "execution_count": 6,
      "outputs": [
        {
          "output_type": "execute_result",
          "data": {
            "text/plain": [
              "array([[0., 0.],\n",
              "       [0., 0.],\n",
              "       [0., 0.],\n",
              "       [0., 0.]])"
            ]
          },
          "metadata": {},
          "execution_count": 6
        }
      ]
    },
    {
      "cell_type": "code",
      "source": [
        "np.ones((4,2))"
      ],
      "metadata": {
        "colab": {
          "base_uri": "https://localhost:8080/"
        },
        "id": "QpasypQG3qTj",
        "outputId": "31a390d7-2b67-4a94-83dc-88f0b4966ccd"
      },
      "execution_count": 7,
      "outputs": [
        {
          "output_type": "execute_result",
          "data": {
            "text/plain": [
              "array([[1., 1.],\n",
              "       [1., 1.],\n",
              "       [1., 1.],\n",
              "       [1., 1.]])"
            ]
          },
          "metadata": {},
          "execution_count": 7
        }
      ]
    },
    {
      "cell_type": "code",
      "source": [
        "new_list=[1,2,3,4]\n",
        "num_arrr=np.array(new_list)"
      ],
      "metadata": {
        "id": "5F9y958b3txZ"
      },
      "execution_count": 8,
      "outputs": []
    },
    {
      "cell_type": "code",
      "source": [
        "num_arrr"
      ],
      "metadata": {
        "colab": {
          "base_uri": "https://localhost:8080/"
        },
        "id": "ZVMQ2dEb39ty",
        "outputId": "d08abab5-3c23-4bbb-baf3-78c7b9787231"
      },
      "execution_count": 9,
      "outputs": [
        {
          "output_type": "execute_result",
          "data": {
            "text/plain": [
              "array([1, 2, 3, 4])"
            ]
          },
          "metadata": {},
          "execution_count": 9
        }
      ]
    },
    {
      "cell_type": "code",
      "source": [
        "np.arange(1,50)"
      ],
      "metadata": {
        "colab": {
          "base_uri": "https://localhost:8080/"
        },
        "id": "8YQ-7eAY4aNC",
        "outputId": "b9cb0839-16ef-4059-abbb-89682682b9d0"
      },
      "execution_count": 10,
      "outputs": [
        {
          "output_type": "execute_result",
          "data": {
            "text/plain": [
              "array([ 1,  2,  3,  4,  5,  6,  7,  8,  9, 10, 11, 12, 13, 14, 15, 16, 17,\n",
              "       18, 19, 20, 21, 22, 23, 24, 25, 26, 27, 28, 29, 30, 31, 32, 33, 34,\n",
              "       35, 36, 37, 38, 39, 40, 41, 42, 43, 44, 45, 46, 47, 48, 49])"
            ]
          },
          "metadata": {},
          "execution_count": 10
        }
      ]
    },
    {
      "cell_type": "code",
      "source": [
        "\n",
        "values = np.arange(9)\n",
        "\n",
        "matrix = values.reshape(3, 3)\n",
        "print(matrix)"
      ],
      "metadata": {
        "colab": {
          "base_uri": "https://localhost:8080/"
        },
        "id": "3hjjsh6a423O",
        "outputId": "2d4becdd-1741-4bc7-df39-a7bd5fabf343"
      },
      "execution_count": 11,
      "outputs": [
        {
          "output_type": "stream",
          "name": "stdout",
          "text": [
            "[[0 1 2]\n",
            " [3 4 5]\n",
            " [6 7 8]]\n"
          ]
        }
      ]
    },
    {
      "cell_type": "code",
      "source": [
        "np.eye(3)"
      ],
      "metadata": {
        "colab": {
          "base_uri": "https://localhost:8080/"
        },
        "id": "f08VgFto4_dB",
        "outputId": "34d43d21-a946-4956-8532-9494b0284496"
      },
      "execution_count": 12,
      "outputs": [
        {
          "output_type": "execute_result",
          "data": {
            "text/plain": [
              "array([[1., 0., 0.],\n",
              "       [0., 1., 0.],\n",
              "       [0., 0., 1.]])"
            ]
          },
          "metadata": {},
          "execution_count": 12
        }
      ]
    },
    {
      "cell_type": "code",
      "source": [
        "random_number=np.random.random(30)"
      ],
      "metadata": {
        "id": "gFdpNJwU5GXf"
      },
      "execution_count": 13,
      "outputs": []
    },
    {
      "cell_type": "code",
      "source": [
        "random_number"
      ],
      "metadata": {
        "colab": {
          "base_uri": "https://localhost:8080/"
        },
        "id": "sKVeLl6x6OeT",
        "outputId": "f682178d-92ef-4695-a262-2f1fab8f9e4a"
      },
      "execution_count": 14,
      "outputs": [
        {
          "output_type": "execute_result",
          "data": {
            "text/plain": [
              "array([0.55100898, 0.36016672, 0.61148045, 0.64064147, 0.8818841 ,\n",
              "       0.07060142, 0.09399604, 0.19656977, 0.70959823, 0.71522754,\n",
              "       0.55433551, 0.49129457, 0.94790796, 0.60123945, 0.15425006,\n",
              "       0.87504704, 0.04285309, 0.0571196 , 0.27872487, 0.51924664,\n",
              "       0.49056669, 0.69935809, 0.44575305, 0.66013042, 0.20626168,\n",
              "       0.3860795 , 0.45100599, 0.90330795, 0.62598701, 0.31161426])"
            ]
          },
          "metadata": {},
          "execution_count": 14
        }
      ]
    },
    {
      "cell_type": "code",
      "source": [
        "random_number.mean()"
      ],
      "metadata": {
        "colab": {
          "base_uri": "https://localhost:8080/"
        },
        "id": "MbrX9GRQ6RwK",
        "outputId": "0e5a8377-ce56-4ee6-fa2a-2cf66ec1b7af"
      },
      "execution_count": 15,
      "outputs": [
        {
          "output_type": "execute_result",
          "data": {
            "text/plain": [
              "0.4844419390501009"
            ]
          },
          "metadata": {},
          "execution_count": 15
        }
      ]
    },
    {
      "cell_type": "code",
      "source": [
        "rand_num=np.random.random((10,10))"
      ],
      "metadata": {
        "id": "84LtkXkb6iju"
      },
      "execution_count": 16,
      "outputs": []
    },
    {
      "cell_type": "code",
      "source": [
        "rand_num"
      ],
      "metadata": {
        "colab": {
          "base_uri": "https://localhost:8080/"
        },
        "id": "7eQLb1__7GQt",
        "outputId": "42eac43a-6a65-4352-8abd-4d438ad7ddea"
      },
      "execution_count": 17,
      "outputs": [
        {
          "output_type": "execute_result",
          "data": {
            "text/plain": [
              "array([[0.74404056, 0.48340965, 0.05670455, 0.39506618, 0.54661912,\n",
              "        0.77705209, 0.04016106, 0.41582014, 0.45814103, 0.39742766],\n",
              "       [0.48331252, 0.1566095 , 0.93318202, 0.82940329, 0.54377748,\n",
              "        0.62077679, 0.28656918, 0.39863808, 0.1766987 , 0.99292224],\n",
              "       [0.72348665, 0.7406709 , 0.52494953, 0.29530419, 0.11383705,\n",
              "        0.78063866, 0.30167675, 0.00761915, 0.34122279, 0.14091801],\n",
              "       [0.07507471, 0.4736842 , 0.31650062, 0.4361604 , 0.78711639,\n",
              "        0.75204665, 0.71171468, 0.70038925, 0.61029502, 0.95171333],\n",
              "       [0.19649152, 0.56355696, 0.99747662, 0.62510551, 0.43292672,\n",
              "        0.6387171 , 0.86560721, 0.82128113, 0.01739505, 0.6475812 ],\n",
              "       [0.47415838, 0.42990523, 0.15480525, 0.83055589, 0.66280697,\n",
              "        0.98103184, 0.02383329, 0.4134977 , 0.45654729, 0.00912245],\n",
              "       [0.52955256, 0.35679355, 0.75510034, 0.34635584, 0.91768148,\n",
              "        0.24245092, 0.80387431, 0.61496335, 0.69486765, 0.00816693],\n",
              "       [0.88685729, 0.66292054, 0.65097211, 0.38752999, 0.35375249,\n",
              "        0.62987342, 0.26134836, 0.50140777, 0.00928522, 0.88932606],\n",
              "       [0.59583508, 0.99930312, 0.89332418, 0.42131317, 0.02456678,\n",
              "        0.36903871, 0.39139202, 0.74166441, 0.899521  , 0.69794821],\n",
              "       [0.56595766, 0.44341386, 0.31314827, 0.33014627, 0.70387569,\n",
              "        0.07502434, 0.82246353, 0.49383948, 0.98193147, 0.75521201]])"
            ]
          },
          "metadata": {},
          "execution_count": 17
        }
      ]
    },
    {
      "cell_type": "code",
      "source": [
        "rand_num.max()"
      ],
      "metadata": {
        "colab": {
          "base_uri": "https://localhost:8080/"
        },
        "id": "XCBQhmXO7JCV",
        "outputId": "59f8d4cf-3023-488b-efd8-710b0d172ae0"
      },
      "execution_count": 18,
      "outputs": [
        {
          "output_type": "execute_result",
          "data": {
            "text/plain": [
              "0.9993031229624708"
            ]
          },
          "metadata": {},
          "execution_count": 18
        }
      ]
    },
    {
      "cell_type": "code",
      "source": [
        "rand_num.min()"
      ],
      "metadata": {
        "colab": {
          "base_uri": "https://localhost:8080/"
        },
        "id": "FQ0sLuqp7N8I",
        "outputId": "e7863b7d-4cb8-4e16-a852-a3adda4431ad"
      },
      "execution_count": 19,
      "outputs": [
        {
          "output_type": "execute_result",
          "data": {
            "text/plain": [
              "0.007619150162029964"
            ]
          },
          "metadata": {},
          "execution_count": 19
        }
      ]
    },
    {
      "cell_type": "code",
      "source": [
        "new_arr=np.zeros(10)"
      ],
      "metadata": {
        "id": "l_NHpEyc7YD0"
      },
      "execution_count": 20,
      "outputs": []
    },
    {
      "cell_type": "code",
      "source": [
        "new_arr"
      ],
      "metadata": {
        "colab": {
          "base_uri": "https://localhost:8080/"
        },
        "id": "rXmn7gCI7cnw",
        "outputId": "5b932bf6-8377-483d-ec88-a8a2e65ee5d4"
      },
      "execution_count": 21,
      "outputs": [
        {
          "output_type": "execute_result",
          "data": {
            "text/plain": [
              "array([0., 0., 0., 0., 0., 0., 0., 0., 0., 0.])"
            ]
          },
          "metadata": {},
          "execution_count": 21
        }
      ]
    },
    {
      "cell_type": "code",
      "source": [
        "new_arr[4]=1"
      ],
      "metadata": {
        "id": "m-W2sg1R7kS_"
      },
      "execution_count": 22,
      "outputs": []
    },
    {
      "cell_type": "code",
      "source": [
        "new_arr"
      ],
      "metadata": {
        "colab": {
          "base_uri": "https://localhost:8080/"
        },
        "id": "lQg0bPM57rBu",
        "outputId": "7727793c-87da-4711-b3eb-4af7a4ddc88b"
      },
      "execution_count": 23,
      "outputs": [
        {
          "output_type": "execute_result",
          "data": {
            "text/plain": [
              "array([0., 0., 0., 0., 1., 0., 0., 0., 0., 0.])"
            ]
          },
          "metadata": {},
          "execution_count": 23
        }
      ]
    },
    {
      "cell_type": "code",
      "source": [
        "arr = [1,2,0,0,4,0]"
      ],
      "metadata": {
        "id": "7qlnpcV67wyc"
      },
      "execution_count": 24,
      "outputs": []
    },
    {
      "cell_type": "code",
      "source": [
        "arr.reverse()"
      ],
      "metadata": {
        "id": "Ei2MHqkn72-U"
      },
      "execution_count": 25,
      "outputs": []
    },
    {
      "cell_type": "code",
      "source": [
        "arr"
      ],
      "metadata": {
        "colab": {
          "base_uri": "https://localhost:8080/"
        },
        "id": "fmx9KkxM8PTs",
        "outputId": "9f58391e-250d-4cc4-8917-499e8aa31b7d"
      },
      "execution_count": 26,
      "outputs": [
        {
          "output_type": "execute_result",
          "data": {
            "text/plain": [
              "[0, 4, 0, 0, 2, 1]"
            ]
          },
          "metadata": {},
          "execution_count": 26
        }
      ]
    },
    {
      "cell_type": "code",
      "source": [],
      "metadata": {
        "id": "rQlXl17M8alT"
      },
      "execution_count": 26,
      "outputs": []
    },
    {
      "cell_type": "code",
      "source": [],
      "metadata": {
        "id": "XiBYSoxD8aan"
      },
      "execution_count": 26,
      "outputs": []
    },
    {
      "cell_type": "code",
      "source": [
        "x = np.array([[1,2],[3,5]])\n",
        "y=np.array([[5,6],[7,8]])\n",
        "v = np.array([9,10])\n",
        "w = np.array([11,12])\n"
      ],
      "metadata": {
        "id": "IgDLcGdK8rgs"
      },
      "execution_count": 27,
      "outputs": []
    },
    {
      "cell_type": "code",
      "source": [
        "x+y"
      ],
      "metadata": {
        "colab": {
          "base_uri": "https://localhost:8080/"
        },
        "id": "3qhc_nR89Ooe",
        "outputId": "d6f94aaa-d493-46d5-cabf-9727a65d9cbf"
      },
      "execution_count": 28,
      "outputs": [
        {
          "output_type": "execute_result",
          "data": {
            "text/plain": [
              "array([[ 6,  8],\n",
              "       [10, 13]])"
            ]
          },
          "metadata": {},
          "execution_count": 28
        }
      ]
    },
    {
      "cell_type": "code",
      "source": [
        "x-y"
      ],
      "metadata": {
        "colab": {
          "base_uri": "https://localhost:8080/"
        },
        "id": "83tHPWf69RBz",
        "outputId": "d2025833-47d8-4791-ed4d-219dec1995fd"
      },
      "execution_count": 29,
      "outputs": [
        {
          "output_type": "execute_result",
          "data": {
            "text/plain": [
              "array([[-4, -4],\n",
              "       [-4, -3]])"
            ]
          },
          "metadata": {},
          "execution_count": 29
        }
      ]
    },
    {
      "cell_type": "code",
      "source": [
        "x*5"
      ],
      "metadata": {
        "colab": {
          "base_uri": "https://localhost:8080/"
        },
        "id": "HsjJzD_-9YFZ",
        "outputId": "6eb92022-9583-4a86-e0a5-6d43e603660b"
      },
      "execution_count": 30,
      "outputs": [
        {
          "output_type": "execute_result",
          "data": {
            "text/plain": [
              "array([[ 5, 10],\n",
              "       [15, 25]])"
            ]
          },
          "metadata": {},
          "execution_count": 30
        }
      ]
    },
    {
      "cell_type": "code",
      "source": [
        "x**2"
      ],
      "metadata": {
        "colab": {
          "base_uri": "https://localhost:8080/"
        },
        "id": "ATS3Ngja9wGg",
        "outputId": "452220da-e184-4eca-eb45-0c95f5c05825"
      },
      "execution_count": 31,
      "outputs": [
        {
          "output_type": "execute_result",
          "data": {
            "text/plain": [
              "array([[ 1,  4],\n",
              "       [ 9, 25]])"
            ]
          },
          "metadata": {},
          "execution_count": 31
        }
      ]
    },
    {
      "cell_type": "code",
      "source": [
        "print(np.dot(v, w))\n",
        "print(np.dot(x, v))\n",
        "print(np.dot(x, y))"
      ],
      "metadata": {
        "colab": {
          "base_uri": "https://localhost:8080/"
        },
        "id": "zF1f17Jj-Gl0",
        "outputId": "b0e70c43-5715-4e5e-cbda-4f2e72a42db8"
      },
      "execution_count": 32,
      "outputs": [
        {
          "output_type": "stream",
          "name": "stdout",
          "text": [
            "219\n",
            "[29 77]\n",
            "[[19 22]\n",
            " [50 58]]\n"
          ]
        }
      ]
    },
    {
      "cell_type": "code",
      "source": [
        "np.concatenate((x,y))"
      ],
      "metadata": {
        "colab": {
          "base_uri": "https://localhost:8080/"
        },
        "id": "Ml89lDyc-7el",
        "outputId": "04b8c113-0dbd-4121-d557-78ba13666d9d"
      },
      "execution_count": 33,
      "outputs": [
        {
          "output_type": "execute_result",
          "data": {
            "text/plain": [
              "array([[1, 2],\n",
              "       [3, 5],\n",
              "       [5, 6],\n",
              "       [7, 8]])"
            ]
          },
          "metadata": {},
          "execution_count": 33
        }
      ]
    },
    {
      "cell_type": "code",
      "source": [
        "np.hstack((x,y))"
      ],
      "metadata": {
        "colab": {
          "base_uri": "https://localhost:8080/"
        },
        "id": "2NZzEBLL_h4V",
        "outputId": "be0b967c-151d-46a1-afae-6faaa3529030"
      },
      "execution_count": 34,
      "outputs": [
        {
          "output_type": "execute_result",
          "data": {
            "text/plain": [
              "array([[1, 2, 5, 6],\n",
              "       [3, 5, 7, 8]])"
            ]
          },
          "metadata": {},
          "execution_count": 34
        }
      ]
    },
    {
      "cell_type": "code",
      "source": [
        "np.vstack((v,w))"
      ],
      "metadata": {
        "colab": {
          "base_uri": "https://localhost:8080/"
        },
        "id": "Zb5-Uo5A_n7A",
        "outputId": "525be8ad-c63f-4019-944c-a72276ab56aa"
      },
      "execution_count": 35,
      "outputs": [
        {
          "output_type": "execute_result",
          "data": {
            "text/plain": [
              "array([[ 9, 10],\n",
              "       [11, 12]])"
            ]
          },
          "metadata": {},
          "execution_count": 35
        }
      ]
    },
    {
      "cell_type": "code",
      "source": [
        "np.concatenate((x,v))"
      ],
      "metadata": {
        "colab": {
          "base_uri": "https://localhost:8080/",
          "height": 162
        },
        "id": "4tIIrWho_w_y",
        "outputId": "fee9c14f-a867-44d4-c39e-888e7fe36408"
      },
      "execution_count": 36,
      "outputs": [
        {
          "output_type": "error",
          "ename": "ValueError",
          "evalue": "all the input arrays must have same number of dimensions, but the array at index 0 has 2 dimension(s) and the array at index 1 has 1 dimension(s)",
          "traceback": [
            "\u001b[0;31m---------------------------------------------------------------------------\u001b[0m",
            "\u001b[0;31mValueError\u001b[0m                                Traceback (most recent call last)",
            "\u001b[0;32m<ipython-input-36-780e7105da8c>\u001b[0m in \u001b[0;36m<cell line: 1>\u001b[0;34m()\u001b[0m\n\u001b[0;32m----> 1\u001b[0;31m \u001b[0mnp\u001b[0m\u001b[0;34m.\u001b[0m\u001b[0mconcatenate\u001b[0m\u001b[0;34m(\u001b[0m\u001b[0;34m(\u001b[0m\u001b[0mx\u001b[0m\u001b[0;34m,\u001b[0m\u001b[0mv\u001b[0m\u001b[0;34m)\u001b[0m\u001b[0;34m)\u001b[0m\u001b[0;34m\u001b[0m\u001b[0;34m\u001b[0m\u001b[0m\n\u001b[0m",
            "\u001b[0;31mValueError\u001b[0m: all the input arrays must have same number of dimensions, but the array at index 0 has 2 dimension(s) and the array at index 1 has 1 dimension(s)"
          ]
        }
      ]
    },
    {
      "cell_type": "code",
      "source": [
        "A = np.array([[3,4],[7,8]])\n",
        "B = np.array([[5,3],[2,1]])"
      ],
      "metadata": {
        "id": "6O7zX74RAGcQ"
      },
      "execution_count": 37,
      "outputs": []
    },
    {
      "cell_type": "code",
      "source": [
        "A_inverse=np.linalg.inv(A)"
      ],
      "metadata": {
        "id": "OXw-_DuP1yGw"
      },
      "execution_count": 38,
      "outputs": []
    },
    {
      "cell_type": "code",
      "source": [
        "B_inverse=np.linalg.inv(B)"
      ],
      "metadata": {
        "id": "BIXXyo6s1_Jr"
      },
      "execution_count": 39,
      "outputs": []
    },
    {
      "cell_type": "code",
      "source": [
        "result=np.dot(A,A_inverse)\n",
        "I = np.eye(A.shape[0])\n",
        "is_identity = np.allclose(result, I)"
      ],
      "metadata": {
        "id": "WSKqN9d82KY-"
      },
      "execution_count": 40,
      "outputs": []
    },
    {
      "cell_type": "code",
      "source": [
        "result"
      ],
      "metadata": {
        "colab": {
          "base_uri": "https://localhost:8080/"
        },
        "id": "1cl7Gqoa2gOZ",
        "outputId": "047967a7-4124-44c4-ddc4-4a415ca1abc3"
      },
      "execution_count": 41,
      "outputs": [
        {
          "output_type": "execute_result",
          "data": {
            "text/plain": [
              "array([[1.00000000e+00, 0.00000000e+00],\n",
              "       [1.77635684e-15, 1.00000000e+00]])"
            ]
          },
          "metadata": {},
          "execution_count": 41
        }
      ]
    },
    {
      "cell_type": "code",
      "source": [
        "is_identity"
      ],
      "metadata": {
        "colab": {
          "base_uri": "https://localhost:8080/"
        },
        "id": "ly4wbbGp2jvd",
        "outputId": "1cdf27ce-7fbd-4346-ead6-b2ea91f78942"
      },
      "execution_count": 42,
      "outputs": [
        {
          "output_type": "execute_result",
          "data": {
            "text/plain": [
              "True"
            ]
          },
          "metadata": {},
          "execution_count": 42
        }
      ]
    },
    {
      "cell_type": "code",
      "source": [
        "\n",
        "AB = np.dot(A, B)  # or A @ B\n",
        "BA = np.dot(B, A)  # or B @ A\n",
        "\n",
        "\n",
        "print(\"AB:\", AB)\n",
        "print(\"BA:\", BA)\n",
        "\n",
        "\n",
        "are_equal = np.array_equal(AB, BA)\n",
        "print(\"Is AB equal to BA? \", are_equal)"
      ],
      "metadata": {
        "colab": {
          "base_uri": "https://localhost:8080/"
        },
        "id": "T-KQzruX3Plo",
        "outputId": "7f232e96-944a-4122-e679-43d03aabdcee"
      },
      "execution_count": 43,
      "outputs": [
        {
          "output_type": "stream",
          "name": "stdout",
          "text": [
            "AB: [[23 13]\n",
            " [51 29]]\n",
            "BA: [[36 44]\n",
            " [13 16]]\n",
            "Is AB equal to BA?  False\n"
          ]
        }
      ]
    },
    {
      "cell_type": "code",
      "source": [
        "AB = np.dot(A, B)\n",
        "AB_T = AB.T\n",
        "\n",
        "B_T = B.T\n",
        "A_T = A.T\n",
        "B_T_A_T = np.dot(B_T, A_T)\n",
        "\n",
        "are_equal = np.array_equal(AB_T, B_T_A_T)\n",
        "\n",
        "print(\"(AB)^T:\", AB_T)\n",
        "print(\"B^T A^T:\", B_T_A_T)\n",
        "print(\"Is (AB)^T equal to B^T A^T? \", are_equal)"
      ],
      "metadata": {
        "colab": {
          "base_uri": "https://localhost:8080/"
        },
        "id": "RIG4AUXi3PZ1",
        "outputId": "a3eabd52-0588-46bd-bc57-5cb36ce6f953"
      },
      "execution_count": 44,
      "outputs": [
        {
          "output_type": "stream",
          "name": "stdout",
          "text": [
            "(AB)^T: [[23 51]\n",
            " [13 29]]\n",
            "B^T A^T: [[23 51]\n",
            " [13 29]]\n",
            "Is (AB)^T equal to B^T A^T?  True\n"
          ]
        }
      ]
    },
    {
      "cell_type": "code",
      "source": [
        "import time\n",
        "\n",
        "list1, list2 = range(1_000_000), range(1_000_000)\n",
        "start = time.time()\n",
        "list_sum = [x + y for x, y in zip(list1, list2)]\n",
        "time_list = time.time() - start\n",
        "\n",
        "array1, array2 = np.arange(1_000_000), np.arange(1_000_000)\n",
        "start = time.time()\n",
        "array_sum = array1 + array2\n",
        "time_numpy = time.time() - start\n",
        "\n",
        "print(f\"Python lists: {time_list:.3f}s, NumPy arrays: {time_numpy:.3f}s\")"
      ],
      "metadata": {
        "colab": {
          "base_uri": "https://localhost:8080/"
        },
        "id": "72r2QyO-7aMl",
        "outputId": "d42b6a1f-0495-4a06-9748-f5a6837293e8"
      },
      "execution_count": 47,
      "outputs": [
        {
          "output_type": "stream",
          "name": "stdout",
          "text": [
            "Python lists: 0.396s, NumPy arrays: 0.012s\n"
          ]
        }
      ]
    },
    {
      "cell_type": "code",
      "source": [
        "list1, list2 = range(1_000_000), range(1_000_000)\n",
        "\n",
        "start = time.time()\n",
        "list_product = [x * y for x, y in zip(list1, list2)]\n",
        "time_list = time.time() - start\n",
        "\n",
        "array1, array2 = np.arange(1_000_000), np.arange(1_000_000)\n",
        "\n",
        "start = time.time()\n",
        "array_product = array1 * array2\n",
        "time_numpy = time.time() - start\n",
        "\n",
        "print(f\"Python lists: {time_list:.3f}s, NumPy arrays: {time_numpy:.3f}s\")"
      ],
      "metadata": {
        "colab": {
          "base_uri": "https://localhost:8080/"
        },
        "id": "ow7TXQnh8sAw",
        "outputId": "ddc6fbdd-1679-44a9-e63e-f1b95c340663"
      },
      "execution_count": 49,
      "outputs": [
        {
          "output_type": "stream",
          "name": "stdout",
          "text": [
            "Python lists: 0.223s, NumPy arrays: 0.005s\n"
          ]
        }
      ]
    }
  ]
}